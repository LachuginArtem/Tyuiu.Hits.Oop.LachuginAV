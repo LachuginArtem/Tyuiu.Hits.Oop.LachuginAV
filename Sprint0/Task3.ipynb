{
 "cells": [
  {
   "cell_type": "markdown",
   "metadata": {},
   "source": [
    "<h1 style=\"color:DodgerBlue\">Индивидальный проект</h1>"
   ]
  },
  {
   "cell_type": "markdown",
   "metadata": {},
   "source": [
    "<h2 style=\"color:DodgerBlue\">Название проекта: Создать базовый класс Movie в C#</h2>\n",
    "\n",
    "----\n",
    "\n",
    "### Вариант задания № 6\n"
   ]
  },
  {
   "cell_type": "markdown",
   "metadata": {},
   "source": [
    "<h2 style=\"color:DodgerBlue\">Описание проекта:</h2>\n",
    "\n",
    "----\n",
    "\n",
    "Описание задачи:\n",
    "\n",
    "Создать базовый класс Movie в C#, который будет представлять информацию о\n",
    "фильмах. На основе этого класса разработать 2-3 производных класса,\n",
    "демонстрирующих принципы наследования и полиморфизма. В каждом из классов\n",
    "должны быть реализованы новые атрибуты и методы, а также переопределены\n",
    "некоторые методы базового класса для демонстрации полиморфизма.\n",
    "\n",
    "Требования к базовому классу Movie:\n",
    "\n",
    "• Атрибуты: Название (Title), Режиссер (Director), Год выпуска (ReleaseYear).\n",
    "\n",
    "• Методы:\n",
    "o GetInfo(): метод для получения информации о фильме в виде строки.\n",
    "o Watch(): метод для вывода сообщения о просмотре фильма.\n",
    "o Rate(): метод для оценки фильма.\n",
    "\n",
    "Требования к производным классам:\n",
    "1. Документальный фильм (Documentary): Должен содержать дополнительные\n",
    "атрибуты, такие как Тематика (Theme). Метод Watch() должен быть\n",
    "переопределен для добавления информации о тематике при просмотре\n",
    "документального фильма.\n",
    "2. Игровой фильм (FeatureFilm): Должен содержать дополнительные атрибуты,\n",
    "такие как Жанр (Genre). Метод Rate() должен быть переопределен для\n",
    "добавления логики оценки в зависимости от жанра.\n",
    "3. Анимационный фильм (AnimatedMovie) (если требуется третий класс):\n",
    "Должен содержать дополнительные атрибуты, такие как Студия анимации\n",
    "(AnimationStudio). Метод GetInfo() должен быть переопределен для\n",
    "включения информации о студии анимации в описании фильма.\n"
   ]
  },
  {
   "cell_type": "markdown",
   "metadata": {},
   "source": [
    "<h2 style=\"color:DodgerBlue\">Реализация:</h2>\n",
    "\n",
    "----"
   ]
  },
  {
   "cell_type": "code",
   "execution_count": 2,
   "metadata": {
    "dotnet_interactive": {
     "language": "csharp"
    },
    "polyglot_notebook": {
     "kernelName": "csharp"
    }
   },
   "outputs": [
    {
     "name": "stdout",
     "output_type": "stream",
     "text": [
      "You are watching the movie 'Inception'.\n",
      "Inception, directed by Christopher Nolan, released in 2010.\n",
      "You rated the movie 'Inception' with 5 stars.\n",
      "You are watching the documentary 'Planet Earth' about Nature.\n",
      "Planet Earth, directed by Alastair Fothergill, released in 2006.\n",
      "You rated the movie 'Planet Earth' with 4 stars.\n",
      "You are watching the movie 'Die Hard'.\n",
      "Die Hard, directed by John McTiernan, released in 1988.\n",
      "Since it's an action movie, 'Die Hard' might deserve a higher rating than 2.\n",
      "You are watching the movie 'Toy Story'.\n",
      "Toy Story, directed by John Lasseter, released in 1995. Animated by Pixar.\n",
      "You rated the movie 'Toy Story' with 5 stars.\n"
     ]
    }
   ],
   "source": [
    "using System;\n",
    "\n",
    "public class Movie\n",
    "{\n",
    "    public string Title { get; set; }\n",
    "    public string Director { get; set; }\n",
    "    public int ReleaseYear { get; set; }\n",
    "\n",
    "    public Movie(string title, string director, int releaseYear)\n",
    "    {\n",
    "        Title = title;\n",
    "        Director = director;\n",
    "        ReleaseYear = releaseYear;\n",
    "    }\n",
    "\n",
    "    public virtual string GetInfo()\n",
    "    {\n",
    "        return $\"{Title}, directed by {Director}, released in {ReleaseYear}.\";\n",
    "    }\n",
    "\n",
    "    public virtual void Watch()\n",
    "    {\n",
    "        Console.WriteLine($\"You are watching the movie '{Title}'.\");\n",
    "    }\n",
    "\n",
    "    public virtual void Rate(int rating)\n",
    "    {\n",
    "        Console.WriteLine($\"You rated the movie '{Title}' with {rating} stars.\");\n",
    "    }\n",
    "}\n",
    "\n",
    "public class Documentary : Movie\n",
    "{\n",
    "    public string Theme { get; set; }\n",
    "\n",
    "    public Documentary(string title, string director, int releaseYear, string theme)\n",
    "        : base(title, director, releaseYear)\n",
    "    {\n",
    "        Theme = theme;\n",
    "    }\n",
    "\n",
    "    public override void Watch()\n",
    "    {\n",
    "        Console.WriteLine($\"You are watching the documentary '{Title}' about {Theme}.\");\n",
    "    }\n",
    "}\n",
    "\n",
    "public class FeatureFilm : Movie\n",
    "{\n",
    "    public string Genre { get; set; }\n",
    "\n",
    "    public FeatureFilm(string title, string director, int releaseYear, string genre)\n",
    "        : base(title, director, releaseYear)\n",
    "    {\n",
    "        Genre = genre;\n",
    "    }\n",
    "\n",
    "    public override void Rate(int rating)\n",
    "    {\n",
    "        if (Genre == \"Action\" && rating < 3)\n",
    "        {\n",
    "            Console.WriteLine($\"Since it's an action movie, '{Title}' might deserve a higher rating than {rating}.\");\n",
    "        }\n",
    "        else\n",
    "        {\n",
    "            base.Rate(rating);\n",
    "        }\n",
    "    }\n",
    "}\n",
    "\n",
    "public class AnimatedMovie : Movie\n",
    "{\n",
    "    public string AnimationStudio { get; set; }\n",
    "\n",
    "    public AnimatedMovie(string title, string director, int releaseYear, string animationStudio)\n",
    "        : base(title, director, releaseYear)\n",
    "    {\n",
    "        AnimationStudio = animationStudio;\n",
    "    }\n",
    "\n",
    "    public override string GetInfo()\n",
    "    {\n",
    "        return $\"{Title}, directed by {Director}, released in {ReleaseYear}. Animated by {AnimationStudio}.\";\n",
    "    }\n",
    "}\n",
    "\n",
    "Movie movie = new Movie(\"Inception\", \"Christopher Nolan\", 2010);\n",
    "Documentary doc = new Documentary(\"Planet Earth\", \"Alastair Fothergill\", 2006, \"Nature\");\n",
    "FeatureFilm feature = new FeatureFilm(\"Die Hard\", \"John McTiernan\", 1988, \"Action\");\n",
    "AnimatedMovie animated = new AnimatedMovie(\"Toy Story\", \"John Lasseter\", 1995, \"Pixar\");\n",
    "\n",
    "movie.Watch();\n",
    "Console.WriteLine(movie.GetInfo());\n",
    "movie.Rate(5);\n",
    "\n",
    "doc.Watch();\n",
    "Console.WriteLine(doc.GetInfo());\n",
    "doc.Rate(4);\n",
    "\n",
    "feature.Watch();\n",
    "Console.WriteLine(feature.GetInfo());\n",
    "feature.Rate(2);\n",
    "\n",
    "animated.Watch();\n",
    "Console.WriteLine(animated.GetInfo());\n",
    "animated.Rate(5);\n"
   ]
  }
 ],
 "metadata": {
  "kernelspec": {
   "display_name": ".NET (C#)",
   "language": "C#",
   "name": ".net-csharp"
  },
  "polyglot_notebook": {
   "kernelInfo": {
    "defaultKernelName": "csharp",
    "items": [
     {
      "aliases": [],
      "languageName": "csharp",
      "name": "csharp"
     }
    ]
   }
  }
 },
 "nbformat": 4,
 "nbformat_minor": 2
}
