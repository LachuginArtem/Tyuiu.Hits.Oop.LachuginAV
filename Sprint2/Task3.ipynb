{
 "cells": [
  {
   "cell_type": "markdown",
   "metadata": {},
   "source": [
    "<h1 style=\"color:DodgerBlue\">Индивидальный проект</h1>"
   ]
  },
  {
   "cell_type": "markdown",
   "metadata": {},
   "source": [
    "<h2 style=\"color:DodgerBlue\">Название проекта:</h2>\n",
    "\n",
    "----\n",
    "\n",
    "### Вариант задания \n"
   ]
  },
  {
   "cell_type": "markdown",
   "metadata": {},
   "source": [
    "<h2 style=\"color:DodgerBlue\">Описание проекта:</h2>\n",
    "\n",
    "----\n",
    "\n",
    "[ваш текст]\n",
    "\n",
    "#### Дополнительное задание\n",
    "Добавьте к сущестующим классам (базовыму и производным 3-4 атрибута и метода) и реализуйте простое, сложное и множественное наследование"
   ]
  },
  {
   "cell_type": "markdown",
   "metadata": {},
   "source": [
    "<h2 style=\"color:DodgerBlue\">Реализация:</h2>\n",
    "\n",
    "----"
   ]
  },
  {
   "cell_type": "code",
   "execution_count": 34,
   "metadata": {
    "dotnet_interactive": {
     "language": "csharp"
    },
    "polyglot_notebook": {
     "kernelName": "csharp"
    }
   },
   "outputs": [],
   "source": [
    "using System;\n",
    "\n",
    "public abstract class Supplier\n",
    "{\n",
    "    public int SupplierId { get; set; }\n",
    "    public string CompanyName { get; set; }\n",
    "    public string ProductType { get; set; }\n",
    "\n",
    "    public virtual string GetCompanyInfo()\n",
    "    {\n",
    "        return $\"SupplierId: {SupplierId}, CompanyName: {CompanyName}, ProductType: {ProductType}\";\n",
    "    }\n",
    "\n",
    "    public virtual string ProvideQuote()\n",
    "    {\n",
    "        return $\"Quote from {CompanyName}\";\n",
    "    }\n",
    "\n",
    "    public virtual string SubmitOrder()\n",
    "    {\n",
    "        return $\"Order sent to {CompanyName}\";\n",
    "    }\n",
    "}\n",
    "\n",
    "public class Manufacturer : Supplier\n",
    "{\n",
    "    public int FoundedYear { get; set; }\n",
    "    public string HeadquartersLocation { get; set; }\n",
    "\n",
    "    public override string ProvideQuote()\n",
    "    {\n",
    "        return base.ProvideQuote() + $\" (Founded in {FoundedYear})\";\n",
    "    }\n",
    "\n",
    "    public string GetManufacturingDetails()\n",
    "    {\n",
    "        return $\"Manufacturing details for {CompanyName}: Headquarters located in {HeadquartersLocation}\";\n",
    "    }\n",
    "}\n",
    "\n",
    "public class Retailer : Supplier\n",
    "{\n",
    "    public string StoreLocation { get; set; }\n",
    "    public int NumberOfStores { get; set; }\n",
    "\n",
    "    public override string SubmitOrder()\n",
    "    {\n",
    "        return base.SubmitOrder() + $\" at {StoreLocation}\";\n",
    "    }\n",
    "\n",
    "    public string GetStoreDetails()\n",
    "    {\n",
    "        return $\"Store details for {CompanyName}: {NumberOfStores} stores located at {StoreLocation}\";\n",
    "    }\n",
    "}\n",
    "\n",
    "public class Importer : Supplier, IExportable\n",
    "{\n",
    "    public string OriginCountry { get; set; }\n",
    "    public string ExportDestination { get; set; }\n",
    "\n",
    "    public override string GetCompanyInfo()\n",
    "    {\n",
    "        return base.GetCompanyInfo() + $\" (Origin Country: {OriginCountry})\";\n",
    "    }\n",
    "\n",
    "    public string GetExportDetails()\n",
    "    {\n",
    "        return $\"Export details for {CompanyName}: Exports from {OriginCountry} to {ExportDestination}\";\n",
    "    }\n",
    "\n",
    "    public void ExportGoods()\n",
    "    {\n",
    "        Console.WriteLine($\"{CompanyName} is exporting goods from {OriginCountry} to {ExportDestination}.\");\n",
    "    }\n",
    "    \n",
    "}\n",
    "Manufacturer manufacturer = new Manufacturer\n",
    "        {\n",
    "            SupplierId = 1,\n",
    "            CompanyName = \"Apple\",\n",
    "            ProductType = \"Electronics\",\n",
    "            FoundedYear = 1976,\n",
    "            HeadquartersLocation = \"Cupertino, California\"\n",
    "        };\n",
    "\n",
    "        Retailer retailer = new Retailer\n",
    "        {\n",
    "            SupplierId = 2,\n",
    "            CompanyName = \"Walmart\",\n",
    "            ProductType = \"Groceries\",\n",
    "            StoreLocation = \"123 Main Street\",\n",
    "            NumberOfStores = 10000\n",
    "        };\n",
    "\n",
    "        Importer importer = new Importer\n",
    "        {\n",
    "            SupplierId = 3,\n",
    "            CompanyName = \"Alibaba\",\n",
    "            ProductType = \"Toys\",\n",
    "            OriginCountry = \"China\",\n",
    "            ExportDestination = \"United States\"\n",
    "        };\n",
    "\n",
    "        Console.WriteLine(manufacturer.GetCompanyInfo());\n",
    "        Console.WriteLine(retailer.ProvideQuote());\n",
    "        Console.WriteLine(importer.SubmitOrder());\n",
    "\n",
    "        Console.WriteLine(manufacturer.GetManufacturingDetails());\n",
    "        Console.WriteLine(retailer.GetStoreDetails());\n",
    "        Console.WriteLine(importer.GetExportDetails());\n",
    "\n",
    "        importer.ExportGoods();\n",
    "interface IExportable\n",
    "{\n",
    "    void ExportGoods();\n",
    "}\n",
    "\n",
    "\n",
    "   \n"
   ]
  }
 ],
 "metadata": {
  "kernelspec": {
   "display_name": ".NET (C#)",
   "language": "C#",
   "name": ".net-csharp"
  },
  "polyglot_notebook": {
   "kernelInfo": {
    "defaultKernelName": "csharp",
    "items": [
     {
      "aliases": [],
      "languageName": "csharp",
      "name": "csharp"
     }
    ]
   }
  }
 },
 "nbformat": 4,
 "nbformat_minor": 2
}
