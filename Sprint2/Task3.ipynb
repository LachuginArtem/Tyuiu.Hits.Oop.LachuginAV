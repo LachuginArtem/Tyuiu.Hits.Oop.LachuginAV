{
 "cells": [
  {
   "cell_type": "markdown",
   "metadata": {},
   "source": [
    "<h1 style=\"color:DodgerBlue\">Индивидальный проект</h1>"
   ]
  },
  {
   "cell_type": "markdown",
   "metadata": {},
   "source": [
    "<h2 style=\"color:DodgerBlue\">Название проекта:</h2>\n",
    "\n",
    "----\n",
    "\n",
    "### Вариант задания 14\n"
   ]
  },
  {
   "cell_type": "markdown",
   "metadata": {},
   "source": [
    "<h2 style=\"color:DodgerBlue\">Описание проекта:</h2>\n",
    "\n",
    "----\n",
    "\n",
    "[ваш текст]\n",
    "Описание задачи:\n",
    "Создать базовый класс Supplier в C#, который будет представлять информацию о\n",
    "поставщиках товаров или услуг. На основе этого класса разработать 2-3\n",
    "производных класса, демонстрирующих принципы наследования и полиморфизма.\n",
    "В каждом из классов должны быть реализованы новые атрибуты и методы, а также\n",
    "переопределены некоторые методы базового класса для демонстрации\n",
    "полиморфизма.\n",
    "Требования к базовому классу Supplier:\n",
    "• Атрибуты: ID поставщика (SupplierId), Название компании (CompanyName),\n",
    "Тип продукции (ProductType).\n",
    "• Методы:\n",
    "o GetCompanyInfo(): метод для получения информации о компании.\n",
    "o ProvideQuote(): метод для предоставления котировки на товары или\n",
    "услуги.\n",
    "o SubmitOrder(): метод для отправки заказа поставщику.\n",
    "Требования к производным классам:\n",
    "1. Производитель (Manufacturer): Должен содержать дополнительные атрибуты,\n",
    "такие как Год основания (FoundedYear). Метод ProvideQuote() должен быть\n",
    "переопределен для включения информации о годе основания компании в\n",
    "котировку.\n",
    "2. Ритейлер (Retailer): Должен содержать дополнительные атрибуты, такие как\n",
    "Расположение магазина (StoreLocation). Метод SubmitOrder() должен быть\n",
    "переопределен для добавления информации о расположении магазина при\n",
    "отправке заказа.\n",
    "3. Импортер (Importer) (если требуется третий класс): Должен содержать\n",
    "дополнительные атрибуты, такие как Страна происхождения товара\n",
    "(OriginCountry). Метод GetCompanyInfo() должен быть переопределен для\n",
    "отображения страны происхождения товара вместе с остальной\n",
    "информацией о компании\n",
    "\n",
    "#### Дополнительное задание\n",
    "Добавьте к сущестующим классам (базовыму и производным 3-4 атрибута и метода) и реализуйте полиморфизм с перекрытием и прегегрузкой методов, а также generic классы\n",
    "#### Дополнительное задание\n",
    "Добавьте к сущестующим классам (базовыму и производным 3-4 атрибута и метода) и реализуйте простое, сложное и множественное наследование"
   ]
  },
  {
   "cell_type": "markdown",
   "metadata": {},
   "source": [
    "<h2 style=\"color:DodgerBlue\">Реализация:</h2>\n",
    "\n",
    "----"
   ]
  },
  {
   "cell_type": "code",
   "execution_count": 34,
   "metadata": {
    "dotnet_interactive": {
     "language": "csharp"
    },
    "polyglot_notebook": {
     "kernelName": "csharp"
    }
   },
   "outputs": [
    {
     "name": "stdout",
     "output_type": "stream",
     "text": [
      "Индентификатор поставщика: 1, Название компании: Apple, Тип продукта: Электроника\n",
      "Отправлено из Walmart\n",
      "заказ для Alibaba\n",
      "Детали Производителя Apple: Главное здание находится Cupertino, California\n",
      "Детали магазина Walmart: 10000 магазин находится 123 Main Street\n",
      "Поставка для Alibaba: поставка из Китай для США\n",
      "Alibaba новая поставка из Китай для США.\n"
     ]
    }
   ],
   "source": [
    "using System;\n",
    "\n",
    "public abstract class Supplier\n",
    "{\n",
    "    public int SupplierId { get; set; }\n",
    "    public string CompanyName { get; set; }\n",
    "    public string ProductType { get; set; }\n",
    "\n",
    "    public virtual string GetCompanyInfo()\n",
    "    {\n",
    "        return $\"Индентификатор поставщика: {SupplierId}, Название компании: {CompanyName}, Тип продукта: {ProductType}\";\n",
    "    }\n",
    "\n",
    "    public virtual string ProvideQuote()\n",
    "    {\n",
    "        return $\"Отправлено из {CompanyName}\";\n",
    "    }\n",
    "\n",
    "    public virtual string SubmitOrder()\n",
    "    {\n",
    "        return $\"заказ для {CompanyName}\";\n",
    "    }\n",
    "}\n",
    "\n",
    "\n",
    "public class Manufacturer : Supplier\n",
    "{\n",
    "    public int FoundedYear { get; set; }\n",
    "    public string HeadquartersLocation { get; set; }\n",
    "\n",
    "    public override string ProvideQuote()\n",
    "    {\n",
    "        return base.ProvideQuote() + $\" (основан в {FoundedYear})\";\n",
    "    }\n",
    "\n",
    "    public string GetManufacturingDetails()\n",
    "    {\n",
    "        return $\"Детали Производителя {CompanyName}: Главное здание находится {HeadquartersLocation}\";\n",
    "    }\n",
    "}\n",
    "\n",
    "public class Retailer : Supplier\n",
    "{\n",
    "    public string StoreLocation { get; set; }\n",
    "    public int NumberOfStores { get; set; }\n",
    "\n",
    "    public override string SubmitOrder()\n",
    "    {\n",
    "        return base.SubmitOrder() + $\" at {StoreLocation}\";\n",
    "    }\n",
    "\n",
    "    public string GetStoreDetails()\n",
    "    {\n",
    "        return $\"Детали магазина {CompanyName}: {NumberOfStores} магазин находится {StoreLocation}\";\n",
    "    }\n",
    "}\n",
    "\n",
    "public class Importer : Supplier, IExportable\n",
    "{\n",
    "    public string OriginCountry { get; set; }\n",
    "    public string ExportDestination { get; set; }\n",
    "\n",
    "    public override string GetCompanyInfo()\n",
    "    {\n",
    "        return base.GetCompanyInfo() + $\" (Origin Country: {OriginCountry})\";\n",
    "    }\n",
    "\n",
    "    public string GetExportDetails()\n",
    "    {\n",
    "        return $\"Поставка для {CompanyName}: поставка из {OriginCountry} для {ExportDestination}\";\n",
    "    }\n",
    "\n",
    "    public void ExportGoods()\n",
    "    {\n",
    "        Console.WriteLine($\"{CompanyName} новая поставка из {OriginCountry} для {ExportDestination}.\");\n",
    "    }\n",
    "    \n",
    "}\n",
    "Manufacturer manufacturer = new Manufacturer\n",
    "        {\n",
    "            SupplierId = 1,\n",
    "            CompanyName = \"Apple\",\n",
    "            ProductType = \"Электроника\",\n",
    "            FoundedYear = 1976,\n",
    "            HeadquartersLocation = \"Cupertino, California\"\n",
    "        };\n",
    "\n",
    "        Retailer retailer = new Retailer\n",
    "        {\n",
    "            SupplierId = 2,\n",
    "            CompanyName = \"Walmart\",\n",
    "            ProductType = \"Продукты\",\n",
    "            StoreLocation = \"123 Main Street\",\n",
    "            NumberOfStores = 10000\n",
    "        };\n",
    "\n",
    "        Importer importer = new Importer\n",
    "        {\n",
    "            SupplierId = 3,\n",
    "            CompanyName = \"Alibaba\",\n",
    "            ProductType = \"Игрушки\",\n",
    "            OriginCountry = \"Китай\",\n",
    "            ExportDestination = \"США\"\n",
    "        };\n",
    "\n",
    "        Console.WriteLine(manufacturer.GetCompanyInfo());\n",
    "        Console.WriteLine(retailer.ProvideQuote());\n",
    "        Console.WriteLine(importer.SubmitOrder());\n",
    "\n",
    "        Console.WriteLine(manufacturer.GetManufacturingDetails());\n",
    "        Console.WriteLine(retailer.GetStoreDetails());\n",
    "        Console.WriteLine(importer.GetExportDetails());\n",
    "\n",
    "        importer.ExportGoods();\n",
    "interface IExportable\n",
    "{\n",
    "    void ExportGoods();\n",
    "}\n",
    "\n",
    "\n",
    "   \n"
   ]
  }
 ],
 "metadata": {
  "kernelspec": {
   "display_name": ".NET (C#)",
   "language": "C#",
   "name": ".net-csharp"
  },
  "polyglot_notebook": {
   "kernelInfo": {
    "defaultKernelName": "csharp",
    "items": [
     {
      "aliases": [],
      "languageName": "csharp",
      "name": "csharp"
     }
    ]
   }
  }
 },
 "nbformat": 4,
 "nbformat_minor": 2
}
