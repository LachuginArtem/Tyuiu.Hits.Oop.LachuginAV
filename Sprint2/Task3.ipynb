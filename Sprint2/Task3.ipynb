{
 "cells": [
  {
   "cell_type": "markdown",
   "metadata": {},
   "source": [
    "<h1 style=\"color:DodgerBlue\">Индивидальный проект</h1>"
   ]
  },
  {
   "cell_type": "markdown",
   "metadata": {},
   "source": [
    "<h2 style=\"color:DodgerBlue\">Название проекта:</h2>\n",
    "\n",
    "----\n",
    "\n",
    "### Вариант задания \n"
   ]
  },
  {
   "cell_type": "markdown",
   "metadata": {},
   "source": [
    "<h2 style=\"color:DodgerBlue\">Описание проекта:</h2>\n",
    "\n",
    "----\n",
    "\n",
    "[ваш текст]\n",
    "\n",
    "#### Дополнительное задание\n",
    "Добавьте к сущестующим классам (базовыму и производным 3-4 атрибута и метода) и реализуйте простое, сложное и множественное наследование"
   ]
  },
  {
   "cell_type": "markdown",
   "metadata": {},
   "source": [
    "<h2 style=\"color:DodgerBlue\">Реализация:</h2>\n",
    "\n",
    "----"
   ]
  },
  {
   "cell_type": "markdown",
   "metadata": {},
   "source": [
    "Интерфейс класса Supplier:"
   ]
  },
  {
   "cell_type": "code",
   "execution_count": 34,
   "metadata": {
    "dotnet_interactive": {
     "language": "csharp"
    },
    "polyglot_notebook": {
     "kernelName": "csharp"
    }
   },
   "outputs": [],
   "source": [
    "using System;\n",
    "\n",
    "public interface SSupplier\n",
    "{\n",
    "    int SupplierId { get; set; }\n",
    "    string CompanyName { get; set; }\n",
    "    string ProductType { get; set; }\n",
    "    \n",
    "    void GetCompanyInfo();\n",
    "    void ProvideQuote();\n",
    "    void SubmitOrder();\n",
    "}\n"
   ]
  },
  {
   "cell_type": "markdown",
   "metadata": {},
   "source": [
    "Базовый класс Supplier:"
   ]
  },
  {
   "cell_type": "code",
   "execution_count": 39,
   "metadata": {
    "dotnet_interactive": {
     "language": "csharp"
    },
    "polyglot_notebook": {
     "kernelName": "csharp"
    }
   },
   "outputs": [
    {
     "ename": "Error",
     "evalue": "(1,24): error CS0246: The type or namespace name 'SSupplier' could not be found (are you missing a using directive or an assembly reference?)\r\n(9,22): error CS0103: The name 'supplierId' does not exist in the current context\r\n(10,23): error CS0103: The name 'companyName' does not exist in the current context\r\n(11,23): error CS0103: The name 'productType' does not exist in the current context",
     "output_type": "error",
     "traceback": [
      "(1,24): error CS0246: The type or namespace name 'SSupplier' could not be found (are you missing a using directive or an assembly reference?)\r\n",
      "(9,22): error CS0103: The name 'supplierId' does not exist in the current context\r\n",
      "(10,23): error CS0103: The name 'companyName' does not exist in the current context\r\n",
      "(11,23): error CS0103: The name 'productType' does not exist in the current context"
     ]
    }
   ],
   "source": [
    "public class Supplier: SSupplier\n",
    "{\n",
    "    public int SupplierId { get; set; }\n",
    "    public string CompanyName { get; set; }\n",
    "    public string ProductType { get; set; }\n",
    "\n",
    "    public Supplier(int SupplierId, string CompanyName, string ProductType)\n",
    "    {\n",
    "        SupplierId = supplierId;\n",
    "        CompanyName = companyName;\n",
    "        ProductType = productType;\n",
    "\n",
    "    }\n",
    "    public virtual void GetCompanyInfo()\n",
    "    {\n",
    "        Console.WriteLine($\"ID поставщика: {SupplierId}\");\n",
    "        Console.WriteLine($\"название компании: {CompanyName}\");\n",
    "        Console.WriteLine($\"тип товара: {ProductType}\");\n",
    "    }\n",
    "    public virtual string ProvideQuote()\n",
    "    {\n",
    "        return $\"Quote from {CompanyName}\";\n",
    "    }\n",
    "\n",
    "    public virtual string SubmitOrder()\n",
    "    {\n",
    "        return $\"Order sent to {CompanyName}\";\n",
    "    }\n",
    "}"
   ]
  },
  {
   "cell_type": "markdown",
   "metadata": {},
   "source": [
    " Производный класс Singleitem:"
   ]
  },
  {
   "cell_type": "code",
   "execution_count": 32,
   "metadata": {
    "dotnet_interactive": {
     "language": "csharp"
    },
    "polyglot_notebook": {
     "kernelName": "csharp"
    }
   },
   "outputs": [],
   "source": [
    "public class Manufacturer : Supplier\n",
    "{\n",
    "    public int FoundedYear { get; set; }\n",
    "\n",
    "    public SingleItem(\n",
    "        int itemId, string name, decimal price, string unitMeasure\n",
    "        ) : base(itemId, name, price)\n",
    "    {\n",
    "        UnitMeasure = unitMeasure;\n",
    "    }\n",
    "\n",
    "    public override void GetDetails()\n",
    "    {\n",
    "        base.GetDetails();\n",
    "        Console.WriteLine($\"Единица измерения: {UnitMeasure}\");\n",
    "    }\n",
    "}"
   ]
  },
  {
   "cell_type": "markdown",
   "metadata": {},
   "source": [
    "Производный класс PackageItem:"
   ]
  },
  {
   "cell_type": "code",
   "execution_count": 37,
   "metadata": {
    "dotnet_interactive": {
     "language": "csharp"
    },
    "polyglot_notebook": {
     "kernelName": "csharp"
    }
   },
   "outputs": [],
   "source": [
    "public class PackageItem : Item\n",
    "{\n",
    "    public int QuantityPerPackage { get; set; }\n",
    "\n",
    "    public PackageItem(\n",
    "        int itemId, string name, decimal price, int quantityPerPackage\n",
    "        ) : base(itemId, name, price)\n",
    "    {\n",
    "        QuantityPerPackage = quantityPerPackage;\n",
    "        Price = price * QuantityPerPackage;\n",
    "    }\n",
    "\n",
    "    public override void CalculateDiscount(decimal discount)\n",
    "    {\n",
    "        Price -= (Price * QuantityPerPackage * discount);\n",
    "    }\n",
    "\n",
    "    public override void ApplyDiscount(decimal discount)\n",
    "    {\n",
    "        CalculateDiscount(discount);\n",
    "        Console.WriteLine($\"Цена после расчета скидки: {Price}\");\n",
    "    }\n",
    "}"
   ]
  },
  {
   "cell_type": "markdown",
   "metadata": {},
   "source": [
    "Производный класс SpecialItem:"
   ]
  },
  {
   "cell_type": "code",
   "execution_count": 35,
   "metadata": {
    "dotnet_interactive": {
     "language": "csharp"
    },
    "polyglot_notebook": {
     "kernelName": "csharp"
    }
   },
   "outputs": [],
   "source": [
    "public class SpecialItem : Item\n",
    "{\n",
    "    public DateTime DiscountExpirationDate { get; set; }\n",
    "\n",
    "    public SpecialItem(\n",
    "        int itemId, string name, decimal price, DateTime discountExpirationDate) : base(itemId, name, price)\n",
    "    {\n",
    "        DiscountExpirationDate = discountExpirationDate;\n",
    "    }\n",
    "\n",
    "    public override void ApplyDiscount(decimal discount)\n",
    "    {\n",
    "        base.ApplyDiscount(discount);\n",
    "        Console.WriteLine($\"Срок действия скидки до: {DiscountExpirationDate}\");\n",
    "    }\n",
    "}"
   ]
  },
  {
   "cell_type": "markdown",
   "metadata": {},
   "source": [
    "Взаимодействие классов:"
   ]
  },
  {
   "cell_type": "code",
   "execution_count": 40,
   "metadata": {
    "dotnet_interactive": {
     "language": "csharp"
    },
    "polyglot_notebook": {
     "kernelName": "csharp"
    }
   },
   "outputs": [],
   "source": [
    "SingleItem singleItem = new SingleItem(1, \"молоко\", 2.5m, \"литр\");\n",
    "singleItem.GetDetails();\n",
    "\n",
    "PackageItem packageItem = new PackageItem(2, \"мука\", 1.8m, 1000);\n",
    "packageItem.ApplyDiscount(0.1m);\n",
    "\n",
    "\n",
    "SpecialItem specialItem = new SpecialItem(3, \"школад\", 3.0m, DateTime.Now.AddDays(30));\n",
    "specialItem.ApplyDiscount(0.1m);"
   ]
  }
 ],
 "metadata": {
  "kernelspec": {
   "display_name": ".NET (C#)",
   "language": "C#",
   "name": ".net-csharp"
  },
  "polyglot_notebook": {
   "kernelInfo": {
    "defaultKernelName": "csharp",
    "items": [
     {
      "aliases": [],
      "languageName": "csharp",
      "name": "csharp"
     }
    ]
   }
  }
 },
 "nbformat": 4,
 "nbformat_minor": 2
}
