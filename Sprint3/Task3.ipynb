{
 "cells": [
  {
   "cell_type": "markdown",
   "metadata": {},
   "source": [
    "<h1 style=\"color:DodgerBlue\">Индивидальный проект</h1>"
   ]
  },
  {
   "cell_type": "markdown",
   "metadata": {},
   "source": [
    "<h2 style=\"color:DodgerBlue\">Название проекта:</h2>\n",
    "\n",
    "----\n",
    "\n",
    "### Вариант задания 14\n"
   ]
  },
  {
   "cell_type": "markdown",
   "metadata": {},
   "source": [
    "<h2 style=\"color:DodgerBlue\">Описание проекта:</h2>\n",
    "\n",
    "----\n",
    "\n",
    "Описание задачи:\n",
    "Создать базовый класс Supplier в C#, который будет представлять информацию о\n",
    "поставщиках товаров или услуг. На основе этого класса разработать 2-3\n",
    "производных класса, демонстрирующих принципы наследования и полиморфизма.\n",
    "В каждом из классов должны быть реализованы новые атрибуты и методы, а также\n",
    "переопределены некоторые методы базового класса для демонстрации\n",
    "полиморфизма.\n",
    "Требования к базовому классу Supplier:\n",
    "• Атрибуты: ID поставщика (SupplierId), Название компании (CompanyName),\n",
    "Тип продукции (ProductType).\n",
    "• Методы:\n",
    "o GetCompanyInfo(): метод для получения информации о компании.\n",
    "o ProvideQuote(): метод для предоставления котировки на товары или\n",
    "услуги.\n",
    "o SubmitOrder(): метод для отправки заказа поставщику.\n",
    "Требования к производным классам:\n",
    "1. Производитель (Manufacturer): Должен содержать дополнительные атрибуты,\n",
    "такие как Год основания (FoundedYear). Метод ProvideQuote() должен быть\n",
    "переопределен для включения информации о годе основания компании в\n",
    "котировку.\n",
    "2. Ритейлер (Retailer): Должен содержать дополнительные атрибуты, такие как\n",
    "Расположение магазина (StoreLocation). Метод SubmitOrder() должен быть\n",
    "переопределен для добавления информации о расположении магазина при\n",
    "отправке заказа.\n",
    "3. Импортер (Importer) (если требуется третий класс): Должен содержать\n",
    "дополнительные атрибуты, такие как Страна происхождения товара\n",
    "(OriginCountry). Метод GetCompanyInfo() должен быть переопределен для\n",
    "отображения страны происхождения товара вместе с остальной\n",
    "информацией о компании\n",
    "\n",
    "#### Дополнительное задание\n",
    "Добавьте к сущестующим классам (базовыму и производным 3-4 атрибута и метода) и реализуйте полиморфизм с перекрытием и прегегрузкой методов, а также generic классы"
   ]
  },
  {
   "cell_type": "markdown",
   "metadata": {},
   "source": [
    "<h2 style=\"color:DodgerBlue\">Реализация:</h2>\n",
    "\n",
    "----"
   ]
  },
  {
   "cell_type": "code",
   "execution_count": null,
   "metadata": {
    "dotnet_interactive": {
     "language": "csharp"
    },
    "polyglot_notebook": {
     "kernelName": "csharp"
    }
   },
   "outputs": [],
   "source": [
    "using System;\n",
    "using System.Collections.Generic;\n",
    "\n",
    "public abstract class Supplier\n",
    "{\n",
    "    public int SupplierId { get; set; }\n",
    "    public string CompanyName { get; set; }\n",
    "    public string ProductType { get; set; }\n",
    "\n",
    "    public virtual string GetCompanyInfo()\n",
    "    {\n",
    "        return $\"ID: {SupplierId}, Company: {CompanyName}, Product: {ProductType}\";\n",
    "    }\n",
    "\n",
    "    public abstract string ProvideQuote();\n",
    "\n",
    "    public virtual string SubmitOrder()\n",
    "    {\n",
    "        return $\"Order submitted to {CompanyName}\";\n",
    "    }\n",
    "}\n",
    "public class Manufacturer : Supplier\n",
    "{\n",
    "    public int FoundedYear { get; set; }\n",
    "\n",
    "    public override string ProvideQuote()\n",
    "    {\n",
    "        return $\"Quote from {CompanyName} (founded in {FoundedYear}): \";\n",
    "    }\n",
    "}\n",
    "public class Retailer : Supplier\n",
    "{\n",
    "    public string StoreLocation { get; set; }\n",
    "\n",
    "    public override string SubmitOrder()\n",
    "    {\n",
    "        return $\"Order submitted to {CompanyName} at {StoreLocation}\";\n",
    "    }\n",
    "}\n",
    "public class Importer : Supplier\n",
    "{\n",
    "    public string OriginCountry { get; set; }\n",
    "\n",
    "    public override string GetCompanyInfo()\n",
    "    {\n",
    "        return base.GetCompanyInfo() + $\" (Origin: {OriginCountry})\";\n",
    "    }\n",
    "}\n",
    "public class Manufacturer : Supplier\n",
    "{\n",
    "    // ...\n",
    "\n",
    "    public string ProvideQuote(double quantity)\n",
    "    {\n",
    "        return $\"Quote from {CompanyName} (founded in {FoundedYear}): {quantity} units\";\n",
    "    }\n",
    "}\n",
    "public class Order<T>\n",
    "{\n",
    "    public int OrderId { get; set; }\n",
    "    public Supplier Supplier { get; set; }\n",
    "    public T Item { get; set; }\n",
    "    public int Quantity { get; set; }\n",
    "}\n",
    "Order<Product> productOrder = new Order<Product>\n",
    "{\n",
    "    Supplier = new Manufacturer { CompanyName = \"Acme Manufacturing\" },\n",
    "    Item = new Product { Name = \"Widget A\" },\n",
    "    Quantity = 100\n",
    "};\n",
    "\n",
    "Order<Service> serviceOrder = new Order<Service>\n",
    "{\n",
    "    Supplier = new Retailer { CompanyName = \"Best Buy\" },\n",
    "    Item = new Service { Name = \"Tech Support\" },\n",
    "    Quantity = 1\n",
    "};\n"
   ]
  }
 ],
 "metadata": {
  "kernelspec": {
   "display_name": ".NET (C#)",
   "language": "C#",
   "name": ".net-csharp"
  },
  "polyglot_notebook": {
   "kernelInfo": {
    "defaultKernelName": "csharp",
    "items": [
     {
      "aliases": [],
      "languageName": "csharp",
      "name": "csharp"
     }
    ]
   }
  }
 },
 "nbformat": 4,
 "nbformat_minor": 2
}
